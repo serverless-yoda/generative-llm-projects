{
 "cells": [
  {
   "cell_type": "code",
   "execution_count": 34,
   "metadata": {},
   "outputs": [],
   "source": [
    "import os\n",
    "import json\n",
    "import openai\n",
    "import gradio as gr\n",
    "from dotenv import load_dotenv\n"
   ]
  },
  {
   "cell_type": "code",
   "execution_count": 35,
   "metadata": {},
   "outputs": [],
   "source": [
    "ticket_prices = {'manila': 'NZ$1000','paris': 'NZ$2000', 'tokyo': 'NZ$2500'} "
   ]
  },
  {
   "cell_type": "code",
   "execution_count": 36,
   "metadata": {},
   "outputs": [],
   "source": [
    "def get_prices(destination_city):\n",
    "    print(f'get price:{destination_city}')\n",
    "    ticket_price = ticket_prices.get(destination_city.lower(),'Unknown')\n",
    "    return ticket_price"
   ]
  },
  {
   "cell_type": "code",
   "execution_count": 37,
   "metadata": {},
   "outputs": [],
   "source": [
    "def fxn_tool_call(message):        \n",
    "        tool_call = message.tool_calls[0]\n",
    "        print(f'tool_calls[0]:{tool_call}')\n",
    "        arguments = json.loads(tool_call.function.arguments)\n",
    "        \n",
    "        print(f'fxn_tool_call arguments:{arguments}')\n",
    "        city = arguments.get('destination_city')\n",
    "        price = get_prices(city)\n",
    "        response = {\n",
    "            'role': 'tool',\n",
    "            'content': json.dumps({'destination_city': city, 'price': price}),\n",
    "            'tool_call_id': message.tool_calls[0].id\n",
    "        }\n",
    "        return response, city"
   ]
  },
  {
   "cell_type": "code",
   "execution_count": 38,
   "metadata": {},
   "outputs": [],
   "source": [
    "class TicketingApp:\n",
    "    def __init__(self):\n",
    "        load_dotenv()\n",
    "        openai.key = os.getenv('OPENAI_API_KEY')\n",
    "\n",
    "        self.system_prompt = \"\"\"\n",
    "            You are a helpful assistant for a ticketing company called TicketingAI.\n",
    "            Give a short and friendly answer with no more than 1 sentence.\n",
    "            Always be accurate and reply 'I dont know the answer', if you dont know the answer.\n",
    "        \"\"\"\n",
    "        self.price_function = {\n",
    "            'name': 'get_prices',\n",
    "            'description': \"Get the price of a return ticket to the destination city. Call this whenever you need to know the ticket price, for example when a customer asks 'How much is a ticket to this city'\",\n",
    "            'parameters':{\n",
    "                'type': 'object',\n",
    "                'properties': {\n",
    "                    'destination_city': {\n",
    "                        'type': 'string',\n",
    "                        'description': 'The destination city for the traveller'\n",
    "                    }\n",
    "                },\n",
    "                'required': ['destination_city'],\n",
    "                'additionalProperties': False\n",
    "\n",
    "            }\n",
    "        }\n",
    "\n",
    "        self.tools = [{'type': 'function', 'function': self.price_function}]\n",
    "    \n",
    "\n",
    "    def chat(self,message, history):\n",
    "        messages = [{'role': 'system','content': self.system_prompt}]\n",
    "        for user, assistant in history:\n",
    "            messages.append({'role': 'user','content': user})\n",
    "            messages.append({'role':'assistant', 'content': assistant})\n",
    "        messages.append({'role': 'user','content': message})\n",
    "\n",
    "        completions=openai.chat.completions.create(\n",
    "            model='gpt-4o-mini',\n",
    "            messages=messages,\n",
    "            tools=self.tools\n",
    "        )\n",
    "\n",
    "        if completions.choices[0].finish_reason=='tool_calls':\n",
    "            message = completions.choices[0].message\n",
    "            response, city = fxn_tool_call(message)\n",
    "            messages.append(message)\n",
    "            messages.append(response)\n",
    "            completions=openai.chat.completions.create(\n",
    "                    model='gpt-4o-mini',\n",
    "                    messages=messages\n",
    "             )\n",
    "\n",
    "        self.result = completions.choices[0].message.content\n",
    "        yield self.result\n",
    "        return self\n",
    "\n",
    "    def UI(self):\n",
    "        gr.ChatInterface(self.chat).launch()\n",
    "        return self"
   ]
  },
  {
   "cell_type": "code",
   "execution_count": 39,
   "metadata": {},
   "outputs": [
    {
     "name": "stdout",
     "output_type": "stream",
     "text": [
      "Running on local URL:  http://127.0.0.1:7867\n",
      "\n",
      "To create a public link, set `share=True` in `launch()`.\n"
     ]
    },
    {
     "data": {
      "text/html": [
       "<div><iframe src=\"http://127.0.0.1:7867/\" width=\"100%\" height=\"500\" allow=\"autoplay; camera; microphone; clipboard-read; clipboard-write;\" frameborder=\"0\" allowfullscreen></iframe></div>"
      ],
      "text/plain": [
       "<IPython.core.display.HTML object>"
      ]
     },
     "metadata": {},
     "output_type": "display_data"
    },
    {
     "data": {
      "text/plain": [
       "<__main__.TicketingApp at 0x19a6ac9b410>"
      ]
     },
     "execution_count": 39,
     "metadata": {},
     "output_type": "execute_result"
    },
    {
     "name": "stdout",
     "output_type": "stream",
     "text": [
      "tool_calls[0]:ChatCompletionMessageToolCall(id='call_kFFFFOYb2a3n0XG2HEYS83Ag', function=Function(arguments='{\"destination_city\":\"Tokyo\"}', name='get_prices'), type='function')\n",
      "fxn_tool_call arguments:{'destination_city': 'Tokyo'}\n",
      "get price:Tokyo\n"
     ]
    }
   ],
   "source": [
    "TicketingApp().UI()"
   ]
  }
 ],
 "metadata": {
  "kernelspec": {
   "display_name": "generative-llm-projects",
   "language": "python",
   "name": "python3"
  },
  "language_info": {
   "codemirror_mode": {
    "name": "ipython",
    "version": 3
   },
   "file_extension": ".py",
   "mimetype": "text/x-python",
   "name": "python",
   "nbconvert_exporter": "python",
   "pygments_lexer": "ipython3",
   "version": "3.11.10"
  }
 },
 "nbformat": 4,
 "nbformat_minor": 2
}
