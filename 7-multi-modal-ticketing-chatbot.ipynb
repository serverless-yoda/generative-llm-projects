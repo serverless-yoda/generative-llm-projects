{
 "cells": [
  {
   "cell_type": "code",
   "execution_count": 1,
   "metadata": {},
   "outputs": [],
   "source": [
    "import os\n",
    "import base64\n",
    "import json\n",
    "from pathlib import Path\n",
    "\n",
    "# llm\n",
    "import openai\n",
    "\n",
    "# ui\n",
    "import gradio as gr\n",
    "\n",
    "# images\n",
    "from io import BytesIO\n",
    "from PIL import Image\n",
    "\n",
    "# audio\n",
    "from pydub import AudioSegment\n",
    "#AudioSegment.converter = r\"C:\\\\ffmpeg\\\\bin\\\\ffmpeg.exe\"\n",
    "AudioSegment.ffmpeg= r\"C:\\\\ffmpeg\\\\bin\\\\ffmpeg.exe\"\n",
    "AudioSegment.ffprobe = r\"C:\\\\ffmpeg\\\\bin\\\\ffprobe.exe\"\n",
    "\n",
    "\n",
    "from pydub.playback import play\n",
    "\n",
    "# env\n",
    "from dotenv import load_dotenv"
   ]
  },
  {
   "cell_type": "code",
   "execution_count": 2,
   "metadata": {},
   "outputs": [],
   "source": [
    "MODEL='gpt-4o-mini'"
   ]
  },
  {
   "cell_type": "code",
   "execution_count": 3,
   "metadata": {},
   "outputs": [],
   "source": [
    "load_dotenv()\n",
    "openai.key = os.getenv('OPENAI_API_KEY')"
   ]
  },
  {
   "cell_type": "code",
   "execution_count": 4,
   "metadata": {},
   "outputs": [],
   "source": [
    "ticket_prices = {'manila': 'NZ$1000','paris': 'NZ$2000', 'tokyo': 'NZ$2500', 'auckland': 'NZ$2450'} "
   ]
  },
  {
   "cell_type": "code",
   "execution_count": 5,
   "metadata": {},
   "outputs": [],
   "source": [
    "def get_prices(destination_city):\n",
    "    print(f'get price:{destination_city}')\n",
    "    ticket_price = ticket_prices.get(destination_city.lower(),'Unknown')\n",
    "    return ticket_price"
   ]
  },
  {
   "cell_type": "code",
   "execution_count": 6,
   "metadata": {},
   "outputs": [],
   "source": [
    "def fxn_tool_call(message):\n",
    "    print(messages)\n",
    "    tool_call = message.tool_calls[0]\n",
    "    arguments = json.loads(tool_call.function.arguments)\n",
    "\n",
    "    city = arguments.get('destination_city')\n",
    "    price = get_prices(city)\n",
    "    response = {\n",
    "        'role': 'tool',\n",
    "        'content': json.dumps({'destination_city': city, 'price': price}),\n",
    "        'tool_call_id': message.tool_calls[0].id\n",
    "    }\n",
    "    return response, city"
   ]
  },
  {
   "cell_type": "code",
   "execution_count": null,
   "metadata": {},
   "outputs": [],
   "source": [
    "def generate_chat_audio(message):  \n",
    "  speech_file_path = \"C:\\\\Users\\\\ma2\\\\Dev Project\\\\self-mastery\\\\genai-llm-projects\\\\generative-llm-projects\\\\audio\\\\speech.mp3\"  \n",
    "  response = openai.audio.speech.create(\n",
    "            model=\"tts-1\",\n",
    "            voice=\"onyx\",\n",
    "            input=message\n",
    "  )\n",
    "  \n",
    "  #response.stream_to_file(speech_file_path)\n",
    "\n",
    "  # Load and play the audio file\n",
    "  audio_stream = BytesIO(response.content)\n",
    "  audio = AudioSegment.from_file(audio_stream, format=\"mp3\")\n",
    "  play(audio)\n",
    "    "
   ]
  },
  {
   "cell_type": "code",
   "execution_count": null,
   "metadata": {},
   "outputs": [],
   "source": [
    "def generate_city_image(city):\n",
    "    image_response = openai.images.generate(\n",
    "            model='dall-e-3',\n",
    "            prompt=f\"An image of a holiday destination in {city}, showing tourist spots and everything unique about {city}, in a vibrant pop-art style\",\n",
    "            size=\"1024x1024\",\n",
    "            n=1,\n",
    "            response_format=\"b64_json\"\n",
    "        )\n",
    "    image_base64 = image_response.data[0].b64_json\n",
    "    image_data = base64.b64decode(image_base64)\n",
    "    return Image.open(BytesIO(image_data))\n",
    "\n",
    "image = generate_city_image(\"manila\")\n",
    "display(image)\n",
    "        "
   ]
  },
  {
   "cell_type": "code",
   "execution_count": 60,
   "metadata": {},
   "outputs": [],
   "source": [
    "system_prompt = \"\"\"\n",
    "            You are a helpful assistant for a ticketing company called TicketingAI.\n",
    "            Give a short and friendly answer with no more than 1 sentence.\n",
    "            Always be accurate and reply 'I dont know the answer', if you dont know the answer.\n",
    "        \"\"\"\n",
    "\n",
    "price_function = {\n",
    "            'name': 'get_prices',\n",
    "            'description': \"Get the price of a return ticket to the destination city. Call this whenever you need to know the ticket price, for example when a customer asks 'How much is a ticket to this city'\",\n",
    "            'parameters': {\n",
    "                'type': 'object',\n",
    "                'properties': {\n",
    "                    'destination_city': {\n",
    "                        'type': 'string',\n",
    "                        'description': 'The destination city for the traveller'\n",
    "                    }\n",
    "                },\n",
    "                'required': ['destination_city'],\n",
    "                'additionalProperties': False\n",
    "            }\n",
    "        } "
   ]
  },
  {
   "cell_type": "code",
   "execution_count": 61,
   "metadata": {},
   "outputs": [],
   "source": [
    "tools = [{'type': 'function', 'function': price_function}]"
   ]
  },
  {
   "cell_type": "code",
   "execution_count": 62,
   "metadata": {},
   "outputs": [],
   "source": [
    "def chat(message, history):\n",
    "    image = None\n",
    "    messages = [{'role': 'system', 'content': system_prompt}]\n",
    "\n",
    "    for user, assistant in history:\n",
    "            messages.append({'role': 'user', 'content': user})\n",
    "            messages.append({'role': 'assistant', 'content': assistant})\n",
    "        \n",
    "    messages.append({'role': 'user', 'content': message})\n",
    "    completions = openai.chat.completions.create(model=MODEL, \n",
    "            messages = messages,\n",
    "            tools = tools\n",
    "        )\n",
    "        \n",
    "    if completions.choices[0].finish_reason=='tool_calls':\n",
    "        message = tool_call = completions.choices[0].message\n",
    "        response, city = fxn_tool_call(message)\n",
    "        message.append(message)\n",
    "        message.append(response)\n",
    "        print(f'completions: {messages}')\n",
    "        image = generate_city_image(city)\n",
    "        completions = openai.chat.completions.create(model=MODEL, messages=messages)\n",
    "\n",
    "            \n",
    "    results = completions.choices[0].message.content\n",
    "    #generate_chat_audio(results)\n",
    "\n",
    "    yield results, image\n",
    "            \n"
   ]
  },
  {
   "cell_type": "code",
   "execution_count": null,
   "metadata": {},
   "outputs": [],
   "source": [
    "with gr.Blocks() as ui:\n",
    "    with gr.Row():\n",
    "        chatbot = gr.Chatbot(height=500)\n",
    "        image_output = gr.Image(height=500)\n",
    "    \n",
    "    with gr.Row():\n",
    "        msg = gr.Textbox(label=\"Chat with our AI Assistant:\")\n",
    "    \n",
    "    with gr.Row():\n",
    "        clear = gr.Button(\"Clear\")\n",
    "\n",
    "    def user(user_message, history):\n",
    "        return \"\", history + [[user_message, None]]\n",
    "\n",
    "    def bot(history):\n",
    "        user_message = history[-1][0]\n",
    "        bot_message, image = chat(user_message, history[:-1])\n",
    "        history[-1][1] = bot_message\n",
    "        return history, image\n",
    "\n",
    "    msg.submit(user, [msg, chatbot], [msg, chatbot], queue=False).then(\n",
    "                bot, chatbot, [chatbot, image_output]\n",
    "    )\n",
    "    clear.click(lambda: None, None, chatbot, queue=False)\n",
    "\n",
    "ui.launch()"
   ]
  }
 ],
 "metadata": {
  "kernelspec": {
   "display_name": "generative-llm-projects",
   "language": "python",
   "name": "python3"
  },
  "language_info": {
   "codemirror_mode": {
    "name": "ipython",
    "version": 3
   },
   "file_extension": ".py",
   "mimetype": "text/x-python",
   "name": "python",
   "nbconvert_exporter": "python",
   "pygments_lexer": "ipython3",
   "version": "3.11.10"
  }
 },
 "nbformat": 4,
 "nbformat_minor": 2
}
