{
 "cells": [
  {
   "cell_type": "code",
   "execution_count": 24,
   "metadata": {},
   "outputs": [],
   "source": [
    "import os\n",
    "import base64\n",
    "import json\n",
    "from pathlib import Path\n",
    "\n",
    "# llm\n",
    "import openai\n",
    "\n",
    "# ui\n",
    "import gradio as gr\n",
    "\n",
    "# images\n",
    "from io import BytesIO\n",
    "from PIL import Image\n",
    "\n",
    "# audio\n",
    "#from pydub import AudioSegment\n",
    "#AudioSegment.converter = r\"C:\\\\ffmpeg\\\\bin\\\\ffmpeg.exe\"\n",
    "#AudioSegment.ffmpeg= r\"C:\\\\ffmpeg\\\\bin\\\\ffmpeg.exe\"\n",
    "#AudioSegment.ffprobe = r\"C:\\\\ffmpeg\\\\bin\\\\ffprobe.exe\"\n",
    "\n",
    "\n",
    "from pydub.playback import play\n",
    "\n",
    "\n",
    "# env\n",
    "from dotenv import load_dotenv"
   ]
  },
  {
   "cell_type": "code",
   "execution_count": 25,
   "metadata": {},
   "outputs": [
    {
     "name": "stdout",
     "output_type": "stream",
     "text": [
      "Requirement already satisfied: playsound in c:\\users\\ma2\\.conda\\envs\\generative-llm-projects\\lib\\site-packages (1.3.0)\n"
     ]
    }
   ],
   "source": [
    "!pip install playsound"
   ]
  },
  {
   "cell_type": "code",
   "execution_count": 26,
   "metadata": {},
   "outputs": [],
   "source": [
    "from playsound import playsound"
   ]
  },
  {
   "cell_type": "code",
   "execution_count": 27,
   "metadata": {},
   "outputs": [],
   "source": [
    "MODEL='gpt-4o-mini'"
   ]
  },
  {
   "cell_type": "code",
   "execution_count": 28,
   "metadata": {},
   "outputs": [],
   "source": [
    "load_dotenv()\n",
    "openai.key = os.getenv('OPENAI_API_KEY')"
   ]
  },
  {
   "cell_type": "code",
   "execution_count": 29,
   "metadata": {},
   "outputs": [],
   "source": [
    "ticket_prices = {'manila': 'NZ$1000','paris': 'NZ$2000', 'tokyo': 'NZ$2500', 'auckland': 'NZ$2450'} "
   ]
  },
  {
   "cell_type": "code",
   "execution_count": 30,
   "metadata": {},
   "outputs": [],
   "source": [
    "def get_prices(destination_city):\n",
    "    print(f'get price:{destination_city}')\n",
    "    ticket_price = ticket_prices.get(destination_city.lower(),'Unknown')\n",
    "    return ticket_price"
   ]
  },
  {
   "cell_type": "code",
   "execution_count": 48,
   "metadata": {},
   "outputs": [],
   "source": [
    "def fxn_tool_call(message):\n",
    "    tool_call = message.tool_calls[0]\n",
    "    arguments = json.loads(tool_call.function.arguments)\n",
    "\n",
    "    city = arguments.get('destination_city')\n",
    "    price = get_prices(city)\n",
    "    response = {\n",
    "        'role': 'tool',\n",
    "        'content': json.dumps({'destination_city': city, 'price': price}),\n",
    "        'tool_call_id': message.tool_calls[0].id\n",
    "    }\n",
    "    return response, city"
   ]
  },
  {
   "cell_type": "code",
   "execution_count": 32,
   "metadata": {},
   "outputs": [],
   "source": [
    "def generate_chat_audio(message):  \n",
    "  audio_path = r\"C:\\\\Users\\\\ma2\\\\Dev Project\\\\self-mastery\\\\genai-llm-projects\\\\generative-llm-projects\\\\audio\\\\new_speech.mp3\"  \n",
    "  response = openai.audio.speech.create(\n",
    "            model=\"tts-1\",\n",
    "            voice=\"onyx\",\n",
    "            input=message\n",
    "  )\n",
    "  \n",
    "  audio_data = response.read()\n",
    "  \n",
    "  # Save the audio content to a file\n",
    "  with open(audio_path, 'wb') as audio_file:\n",
    "      audio_file.write(audio_data)\n",
    "\n",
    "  if os.path.exists(audio_path):\n",
    "    print(f\"File saved successfully at {audio_path}\")\n",
    "  else:\n",
    "    raise FileNotFoundError(\"File not found. Please check the path.\")\n",
    "\n",
    "  playsound(audio_path)\n",
    "\n",
    "#generate_chat_audio('this is going to be a good training tomorrow')\n",
    "    "
   ]
  },
  {
   "cell_type": "code",
   "execution_count": 33,
   "metadata": {},
   "outputs": [],
   "source": [
    "def generate_city_image(city):\n",
    "    image_response = openai.images.generate(\n",
    "            model='dall-e-3',\n",
    "            prompt=f\"An image of a holiday destination in {city}, showing tourist spots and everything unique about {city}, in a vibrant pop-art style\",\n",
    "            size=\"1024x1024\",\n",
    "            n=1,\n",
    "            response_format=\"b64_json\"\n",
    "        )\n",
    "    image_base64 = image_response.data[0].b64_json\n",
    "    image_data = base64.b64decode(image_base64)\n",
    "    return Image.open(BytesIO(image_data))\n",
    "\n",
    "#image = generate_city_image(\"manila\")\n",
    "#display(image)\n",
    "        "
   ]
  },
  {
   "cell_type": "code",
   "execution_count": 34,
   "metadata": {},
   "outputs": [],
   "source": [
    "system_prompt = \"\"\"\n",
    "            You are a helpful assistant for a ticketing company called TicketingAI.\n",
    "            Give a short and friendly answer with no more than 1 sentence.\n",
    "            Always be accurate and reply 'I dont know the answer', if you dont know the answer.\n",
    "        \"\"\"\n",
    "\n",
    "price_function = {\n",
    "            'name': 'get_prices',\n",
    "            'description': \"Get the price of a return ticket to the destination city. Call this whenever you need to know the ticket price, for example when a customer asks 'How much is a ticket to this city'\",\n",
    "            'parameters': {\n",
    "                'type': 'object',\n",
    "                'properties': {\n",
    "                    'destination_city': {\n",
    "                        'type': 'string',\n",
    "                        'description': 'The destination city for the traveller'\n",
    "                    }\n",
    "                },\n",
    "                'required': ['destination_city'],\n",
    "                'additionalProperties': False\n",
    "            }\n",
    "        } "
   ]
  },
  {
   "cell_type": "code",
   "execution_count": 35,
   "metadata": {},
   "outputs": [],
   "source": [
    "tools = [{'type': 'function', 'function': price_function}]"
   ]
  },
  {
   "cell_type": "code",
   "execution_count": 46,
   "metadata": {},
   "outputs": [],
   "source": [
    "def chat(message, history):\n",
    "    image = None\n",
    "    conversation = [{\"role\": \"system\", \"content\": system_prompt}]\n",
    "    for human, assistant in history:\n",
    "        conversation.append({\"role\": \"user\", \"content\": human})\n",
    "        conversation.append({\"role\": \"assistant\", \"content\": assistant})\n",
    "    conversation.append({\"role\": \"user\", \"content\": message})\n",
    "    response = openai.chat.completions.create(model=MODEL, \n",
    "    messages=conversation, tools=tools)\n",
    "\n",
    "    if response.choices[0].finish_reason==\"tool_calls\":\n",
    "        message = tool_call = response.choices[0].message\n",
    "        response, city = fxn_tool_call(message)\n",
    "        conversation.append(message)\n",
    "        conversation.append(response)\n",
    "        image = generate_city_image(city)\n",
    "        response = openai.chat.completions.create(model=MODEL, \n",
    "        messages=conversation)\n",
    "\n",
    "    reply = response.choices[0].message.content\n",
    "    generate_chat_audio(reply)\n",
    "    return reply, image"
   ]
  },
  {
   "cell_type": "code",
   "execution_count": 49,
   "metadata": {},
   "outputs": [
    {
     "name": "stdout",
     "output_type": "stream",
     "text": [
      "Running on local URL:  http://127.0.0.1:7865\n",
      "\n",
      "To create a public link, set `share=True` in `launch()`.\n"
     ]
    },
    {
     "data": {
      "text/html": [
       "<div><iframe src=\"http://127.0.0.1:7865/\" width=\"100%\" height=\"500\" allow=\"autoplay; camera; microphone; clipboard-read; clipboard-write;\" frameborder=\"0\" allowfullscreen></iframe></div>"
      ],
      "text/plain": [
       "<IPython.core.display.HTML object>"
      ]
     },
     "metadata": {},
     "output_type": "display_data"
    },
    {
     "data": {
      "text/plain": []
     },
     "execution_count": 49,
     "metadata": {},
     "output_type": "execute_result"
    },
    {
     "name": "stderr",
     "output_type": "stream",
     "text": [
      "c:\\Users\\ma2\\.conda\\envs\\generative-llm-projects\\Lib\\site-packages\\gradio\\analytics.py:106: UserWarning: IMPORTANT: You are using gradio version 4.44.1, however version 5.0.1 is available, please upgrade. \n",
      "--------\n",
      "  warnings.warn(\n"
     ]
    },
    {
     "name": "stdout",
     "output_type": "stream",
     "text": [
      "File saved successfully at C:\\\\Users\\\\ma2\\\\Dev Project\\\\self-mastery\\\\genai-llm-projects\\\\generative-llm-projects\\\\audio\\\\new_speech.mp3\n",
      "get price:Paris\n",
      "File saved successfully at C:\\\\Users\\\\ma2\\\\Dev Project\\\\self-mastery\\\\genai-llm-projects\\\\generative-llm-projects\\\\audio\\\\new_speech.mp3\n"
     ]
    }
   ],
   "source": [
    "with gr.Blocks() as ui:\n",
    "    with gr.Row():\n",
    "        chatbot = gr.Chatbot(height=500)\n",
    "        image_output = gr.Image(height=500)\n",
    "    \n",
    "    with gr.Row():\n",
    "        msg = gr.Textbox(label=\"Chat with our AI Assistant:\")\n",
    "    \n",
    "    with gr.Row():\n",
    "        clear = gr.Button(\"Clear\")\n",
    "\n",
    "    def user(user_message, history):\n",
    "        return \"\", history + [[user_message, None]]\n",
    "\n",
    "    def bot(history):\n",
    "        user_message = history[-1][0]\n",
    "        bot_message, image = chat(user_message, history[:-1])\n",
    "        history[-1][1] = bot_message\n",
    "        return history, image\n",
    "\n",
    "    msg.submit(user, [msg, chatbot], [msg, chatbot], queue=False).then(\n",
    "                bot, chatbot, [chatbot, image_output]\n",
    "    )\n",
    "    clear.click(lambda: None, None, chatbot, queue=False)\n",
    "\n",
    "ui.launch()"
   ]
  }
 ],
 "metadata": {
  "kernelspec": {
   "display_name": "generative-llm-projects",
   "language": "python",
   "name": "python3"
  },
  "language_info": {
   "codemirror_mode": {
    "name": "ipython",
    "version": 3
   },
   "file_extension": ".py",
   "mimetype": "text/x-python",
   "name": "python",
   "nbconvert_exporter": "python",
   "pygments_lexer": "ipython3",
   "version": "3.11.10"
  }
 },
 "nbformat": 4,
 "nbformat_minor": 2
}
