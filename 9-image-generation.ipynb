{
 "cells": [
  {
   "cell_type": "code",
   "execution_count": 1,
   "metadata": {},
   "outputs": [],
   "source": [
    "!pip install -q diffusers"
   ]
  },
  {
   "cell_type": "code",
   "execution_count": 2,
   "metadata": {},
   "outputs": [],
   "source": [
    "import torch\n",
    "from huggingface_hub import login\n",
    "from transformers import pipeline\n",
    "from diffusers import DiffusionPipeline, FluxPipeline,StableDiffusionInstructPix2PixPipeline, EulerAncestralDiscreteScheduler\n",
    "from PIL import Image\n",
    "import os\n",
    "from dotenv import load_dotenv\n",
    "\n",
    "_ = load_dotenv()"
   ]
  },
  {
   "cell_type": "code",
   "execution_count": 3,
   "metadata": {},
   "outputs": [
    {
     "name": "stdout",
     "output_type": "stream",
     "text": [
      "Token is valid (permission: read).\n",
      "Your token has been saved in your configured git credential helpers (manager).\n",
      "Your token has been saved to C:\\Users\\ma2\\.cache\\huggingface\\token\n",
      "Login successful\n"
     ]
    }
   ],
   "source": [
    "hf_token = os.getenv('HF_TOKEN')\n",
    "login(hf_token, add_to_git_credential=True)"
   ]
  },
  {
   "cell_type": "code",
   "execution_count": 4,
   "metadata": {},
   "outputs": [],
   "source": [
    "\n",
    "def modify_existing_image(image_path, prompt):\n",
    "    # Load the existing image from a local file\n",
    "    existing_image = Image.open(image_path).convert(\"RGB\")\n",
    "\n",
    "    # Load the InstructPix2Pix pipeline\n",
    "    model_id = \"timbrooks/instruct-pix2pix\"\n",
    "    pipe = StableDiffusionInstructPix2PixPipeline.from_pretrained(model_id, torch_dtype=torch.float32)\n",
    "    pipe.to(\"cpu\")\n",
    "\n",
    "    # Set the scheduler\n",
    "    pipe.scheduler = EulerAncestralDiscreteScheduler.from_config(pipe.scheduler.config)\n",
    "\n",
    "    # Generate the modified image\n",
    "    images = pipe(prompt=prompt, image=existing_image, num_inference_steps=20, image_guidance_scale=1.5).images\n",
    "\n",
    "    # Save the modified image\n",
    "    modified_image = images[0]\n",
    "    modified_image.save(\"modified_image.png\")\n",
    "\n",
    "    return modified_image\n"
   ]
  },
  {
   "cell_type": "code",
   "execution_count": 5,
   "metadata": {},
   "outputs": [],
   "source": [
    "def _modify_existing_image(image_path, prompt):\n",
    "    # Load the existing image from a local file\n",
    "    existing_image = Image.open(image_path).convert(\"RGB\")\n",
    "\n",
    "    # Load the Flux pipeline\n",
    "    pipe = FluxPipeline.from_pretrained('black-forest-labs/FLUX.1-schnell', torch_dtype=torch.bfloat16).to('cpu')\n",
    "\n",
    "    # Set the generator\n",
    "    generator = torch.Generator(device=\"cpu\").manual_seed(0)\n",
    "\n",
    "    # Generate the modified image using the GPU\n",
    "    images = pipe(\n",
    "        prompt=prompt,\n",
    "        guidance_scale=0.0,\n",
    "        num_inference_steps=4,\n",
    "        max_sequence_length=256,\n",
    "        generator=generator,\n",
    "        image=existing_image\n",
    "    ).images\n",
    "\n",
    "    # Save the modified image\n",
    "    modified_image = images[0]\n",
    "    modified_image.save(\"modified_image.png\")\n",
    "\n",
    "    return modified_image\n",
    "\n",
    "\n"
   ]
  },
  {
   "cell_type": "code",
   "execution_count": null,
   "metadata": {},
   "outputs": [
    {
     "data": {
      "application/vnd.jupyter.widget-view+json": {
       "model_id": "c7137e3f851e4267af46e2b285fbe913",
       "version_major": 2,
       "version_minor": 0
      },
      "text/plain": [
       "Loading pipeline components...:   0%|          | 0/7 [00:00<?, ?it/s]"
      ]
     },
     "metadata": {},
     "output_type": "display_data"
    },
    {
     "name": "stderr",
     "output_type": "stream",
     "text": [
      "c:\\Users\\ma2\\.conda\\envs\\generative-llm-projects\\Lib\\site-packages\\transformers\\tokenization_utils_base.py:1617: FutureWarning: `clean_up_tokenization_spaces` was not set. It will be set to `True` by default. This behavior will be deprecated in transformers v4.45, and will be then set to `False` by default. For more details check this issue: https://github.com/huggingface/transformers/issues/31884\n",
      "  warnings.warn(\n"
     ]
    },
    {
     "data": {
      "application/vnd.jupyter.widget-view+json": {
       "model_id": "1f332ba3433e4acd9000d6322e19d297",
       "version_major": 2,
       "version_minor": 0
      },
      "text/plain": [
       "  0%|          | 0/20 [00:00<?, ?it/s]"
      ]
     },
     "metadata": {},
     "output_type": "display_data"
    }
   ],
   "source": [
    "# Example usage\n",
    "image_path = \"./images/profilepix.jpg\"  # Replace with your local image path\n",
    "prompt = \"A futuristic class full of students learning AI coding in the surreal style of Salvador Dali\"\n",
    "prompt = \"\"\"\n",
    "            Generate a new face photo based on the image with a different hairstyle and shirt. \n",
    "            Make tha face cleanly shaven in the surreal style of Salvador Dali\n",
    "        \"\"\"\n",
    "modified_image = modify_existing_image(image_path, prompt)\n",
    "modified_image.show()  # Display the modified image"
   ]
  }
 ],
 "metadata": {
  "kernelspec": {
   "display_name": "generative-llm-projects",
   "language": "python",
   "name": "python3"
  },
  "language_info": {
   "codemirror_mode": {
    "name": "ipython",
    "version": 3
   },
   "file_extension": ".py",
   "mimetype": "text/x-python",
   "name": "python",
   "nbconvert_exporter": "python",
   "pygments_lexer": "ipython3",
   "version": "3.11.10"
  }
 },
 "nbformat": 4,
 "nbformat_minor": 2
}
