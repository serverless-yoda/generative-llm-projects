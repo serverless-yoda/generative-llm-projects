{
 "cells": [
  {
   "cell_type": "code",
   "execution_count": 21,
   "metadata": {},
   "outputs": [],
   "source": [
    "import os\n",
    "import gradio as gr\n",
    "import openai\n",
    "import google.generativeai as genai\n",
    "from dotenv import load_dotenv"
   ]
  },
  {
   "cell_type": "code",
   "execution_count": 22,
   "metadata": {},
   "outputs": [],
   "source": [
    "load_dotenv()\n",
    "openai.key = os.getenv('OPENAI_API_KEY')\n",
    "genai.configure(api_key=os.getenv('GOOGLE_API_KEY'))"
   ]
  },
  {
   "cell_type": "code",
   "execution_count": 23,
   "metadata": {},
   "outputs": [],
   "source": [
    "system_prompt = \"\"\"\n",
    "            You are a helpful customer service assistant in a bookstore. \n",
    "            You are very good in encouraging customers to try new release books\n",
    "            that are on sale. Self-help books are 30% discounted. Teens books are 50% discount\n",
    "            If they are unsure what to buy,create a self-pitch to try other things \n",
    "            in a very funny way.\n",
    "        \"\"\""
   ]
  },
  {
   "cell_type": "code",
   "execution_count": 26,
   "metadata": {},
   "outputs": [],
   "source": [
    "def chat(self,message, history):\n",
    "        messages = [{'role': 'system', 'content': system_prompt}]\n",
    "\n",
    "        for user_message, assistant_message in history:\n",
    "            messages.append({'role': 'user','content': user_message})\n",
    "            messages.append({'role': 'assistant','content': assistant_message})\n",
    "        \n",
    "        messages.append({'role':'user','content': message})\n",
    "\n",
    "        stream = openai.chat.completions.create(\n",
    "            model='gpt-4o-mini',\n",
    "            messages=messages,\n",
    "            stream=True\n",
    "        )\n",
    "\n",
    "        response=\"\"\n",
    "        for chunk in response:\n",
    "            response += chunk.choices[0].delta.content or ''\n",
    "            yield response\n",
    "\n",
    "        # gemini = genai.GenerativeModel(model_name='gemini-1.5-flash')\n",
    "        # response = gemini.generate_content(system_prompt,stream=True)\n",
    "        # result = \"\"    \n",
    "        # for chunk in response:\n",
    "        #     result += chunk.text or \"\"\n",
    "        #     yield result\n",
    "\n",
    "        \n"
   ]
  },
  {
   "cell_type": "code",
   "execution_count": null,
   "metadata": {},
   "outputs": [],
   "source": [
    "gr.ChatInterface(fn=chat).launch()"
   ]
  },
  {
   "cell_type": "markdown",
   "metadata": {},
   "source": [
    "### Wrapping in a class"
   ]
  },
  {
   "cell_type": "code",
   "execution_count": 11,
   "metadata": {},
   "outputs": [],
   "source": [
    "class CustomerChatAI:\n",
    "    def __init__(self):\n",
    "        self.system_prompt = \"\"\"\n",
    "            You are a helpful customer service assistant in a bookstore. \n",
    "            You are very good in encouraging customers to try new release books\n",
    "            that are on sale. Self-help books are 30% discounted. Teens books are 50% discount\n",
    "            If they are unsure what to buy,create a self-pitch to try other things \n",
    "            in a very funny way.\n",
    "        \"\"\"\n",
    "        \n",
    "    \n",
    "    def chat(self,message, history):\n",
    "        messages = [{'role': 'system', 'content': self.system_prompt}]\n",
    "\n",
    "        for user_message, assistant_message in history:\n",
    "            messages.append({'role': 'user','content': user_message})\n",
    "            messages.append({'role': 'assistant','content': assistant_message})\n",
    "        \n",
    "        messages.append({'role':'user','content': message})\n",
    "\n",
    "        stream = openai.chat.completions.create(\n",
    "            model='gpt-4o-mini',\n",
    "            messages=messages,\n",
    "            stream=True\n",
    "        )\n",
    "\n",
    "        response=\"\"\n",
    "        for chunk in response:\n",
    "            response += chunk.choices[0].delta.content or ''\n",
    "            yield response\n",
    "\n",
    "\n",
    "    def UI(self):\n",
    "        gr.ChatInterface(fn=self.chat).launch()\n",
    "        return self"
   ]
  },
  {
   "cell_type": "code",
   "execution_count": null,
   "metadata": {},
   "outputs": [],
   "source": [
    "CustomerChatAI().UI()\n"
   ]
  }
 ],
 "metadata": {
  "kernelspec": {
   "display_name": "generative-llm-projects",
   "language": "python",
   "name": "python3"
  },
  "language_info": {
   "codemirror_mode": {
    "name": "ipython",
    "version": 3
   },
   "file_extension": ".py",
   "mimetype": "text/x-python",
   "name": "python",
   "nbconvert_exporter": "python",
   "pygments_lexer": "ipython3",
   "version": "3.11.10"
  }
 },
 "nbformat": 4,
 "nbformat_minor": 2
}
