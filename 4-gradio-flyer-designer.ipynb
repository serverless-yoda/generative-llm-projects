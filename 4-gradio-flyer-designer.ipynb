{
 "cells": [
  {
   "cell_type": "markdown",
   "metadata": {},
   "source": [
    "A webscrape app that crafts a flyer for a company, aimed at attracting new clients, engaging investors, and appealing to potential hires.\n",
    "\n",
    "You only need company’s name and their main website to get started.\n",
    "\n",
    "This will use Gradio for User Interface"
   ]
  },
  {
   "cell_type": "code",
   "execution_count": 29,
   "metadata": {},
   "outputs": [],
   "source": [
    "import os\n",
    "import requests\n",
    "\n",
    "from bs4 import BeautifulSoup\n",
    "from dotenv import load_dotenv\n",
    "\n",
    "import google.generativeai as genai\n",
    "import openai\n",
    "import gradio as gr\n"
   ]
  },
  {
   "cell_type": "code",
   "execution_count": 30,
   "metadata": {},
   "outputs": [],
   "source": [
    "load_dotenv()\n",
    "openai.key = os.getenv('OPENAI_API_KEY')\n",
    "genai.configure(api_key=os.getenv('GOOGLE_API_KEY'))"
   ]
  },
  {
   "cell_type": "code",
   "execution_count": 31,
   "metadata": {},
   "outputs": [],
   "source": [
    "system_prompt =\"\"\" \n",
    "        You are a very reliable assistant that read and carefully analyze contents of\n",
    "        a website and all the pages included.\n",
    "\n",
    "        I want you to create a very attractive flyer about the company.\n",
    "        You need to include details of the company, a short history, cients and careers or jobs if its present.\n",
    "\n",
    "        I want you to make it funny, engaging and entertaining.\n",
    "        \"\"\"\n"
   ]
  },
  {
   "cell_type": "code",
   "execution_count": 32,
   "metadata": {},
   "outputs": [],
   "source": [
    "class  GradioFlyers:\n",
    "    def __init__(self, company, url):\n",
    "        self.url = url\n",
    "        self.company = company\n",
    "\n",
    "        response = requests.get(url)\n",
    "        soup = BeautifulSoup(response.content, 'html.parser')\n",
    "        if soup.body:\n",
    "            for tag in soup.body([\"script\", \"style\", \"img\", \"input\"]):\n",
    "                tag.decompose()\n",
    "            self.text = soup.body.get_text(separator='\\n',strip=True)\n",
    "        \n",
    "        self.title = soup.title.string if soup.title else 'No title found'\n",
    "        \n",
    "    def get_contents(self):\n",
    "        return f\"\\nWebpage title: {self.title}\\n Content: {self.text}\"\n",
    "        return self\n",
    "\n",
    "\n",
    "def gpt_streaming(user_prompt):\n",
    "    completions = openai.chat.completions.create(\n",
    "        model='gpt-4o-mini',\n",
    "        messages=[\n",
    "            {\n",
    "                'role': 'system', 'content': system_prompt\n",
    "            },\n",
    "            {\n",
    "                'role': 'user', 'content': user_prompt\n",
    "            }\n",
    "        ],\n",
    "        stream=True\n",
    "    )\n",
    "\n",
    "    result = \"\"\n",
    "    for chunk in completions:\n",
    "        result += competions.choices[0].delta.content or \"\"\n",
    "        yield result\n",
    "\n",
    "def gemini_streaming(user_prompt):\n",
    "    \n",
    "    gemini = genai.GenerativeModel(\n",
    "                        model_name='gemini-1.5-flash'    \n",
    "    )\n",
    "\n",
    "    response = gemini.generate_content(user_prompt,stream=True)\n",
    "    result = \"\"    \n",
    "    for chunk in response:\n",
    "        result += chunk.text or \"\"\n",
    "        yield result\n",
    "\n",
    "\n",
    "def stream_flyer(company,url,model):\n",
    "    user_prompt = f\"\"\"\n",
    "            You are analyzing the company called {company}\n",
    "            Generate a company brochure for {company}.\n",
    "            Here is the landing page.\n",
    "        \"\"\"\n",
    "    user_prompt += (GradioFlyers(company=company,url=url).get_contents())\n",
    "    if model == 'GPT':\n",
    "       result= gpt_streaming(user_prompt)\n",
    "    elif model == 'GEMINI':\n",
    "       result= gemini_streaming(user_prompt)\n",
    "    else:\n",
    "            raise ValueError('Unknown model')\n",
    "    \n",
    "    for chunk in result:\n",
    "        yield chunk\n",
    "        \n"
   ]
  },
  {
   "cell_type": "code",
   "execution_count": 33,
   "metadata": {},
   "outputs": [
    {
     "name": "stdout",
     "output_type": "stream",
     "text": [
      "Running on local URL:  http://127.0.0.1:7864\n",
      "\n",
      "To create a public link, set `share=True` in `launch()`.\n"
     ]
    },
    {
     "data": {
      "text/html": [
       "<div><iframe src=\"http://127.0.0.1:7864/\" width=\"100%\" height=\"500\" allow=\"autoplay; camera; microphone; clipboard-read; clipboard-write;\" frameborder=\"0\" allowfullscreen></iframe></div>"
      ],
      "text/plain": [
       "<IPython.core.display.HTML object>"
      ]
     },
     "metadata": {},
     "output_type": "display_data"
    },
    {
     "data": {
      "text/plain": []
     },
     "execution_count": 33,
     "metadata": {},
     "output_type": "execute_result"
    }
   ],
   "source": [
    "gr.Interface(\n",
    "    fn=stream_flyer,\n",
    "    inputs=[\n",
    "        gr.Textbox(label='Company Name:'),\n",
    "        gr.Textbox(label='Landing Page url:'),\n",
    "        gr.Dropdown(['GPT','GEMINI'], label='Select Model')\n",
    "    ],\n",
    "    outputs = [gr.Markdown(label='Flyers')],\n",
    "    allow_flagging='never'\n",
    ").launch()"
   ]
  }
 ],
 "metadata": {
  "kernelspec": {
   "display_name": "generative-llm-projects",
   "language": "python",
   "name": "python3"
  },
  "language_info": {
   "codemirror_mode": {
    "name": "ipython",
    "version": 3
   },
   "file_extension": ".py",
   "mimetype": "text/x-python",
   "name": "python",
   "nbconvert_exporter": "python",
   "pygments_lexer": "ipython3",
   "version": "3.11.10"
  }
 },
 "nbformat": 4,
 "nbformat_minor": 2
}
