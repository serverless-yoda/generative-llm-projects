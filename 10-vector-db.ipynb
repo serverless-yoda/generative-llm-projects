{
 "cells": [
  {
   "cell_type": "code",
   "execution_count": 2,
   "metadata": {},
   "outputs": [],
   "source": [
    "import pandas as pd\n",
    "import numpy as np\n",
    "from datetime import datetime\n",
    "\n",
    "import chromadb\n",
    "from chromadb.config import Settings\n",
    "\n",
    "from transformers import AutoTokenizer, AutoModelForCausalLM, pipeline\n"
   ]
  },
  {
   "cell_type": "code",
   "execution_count": 3,
   "metadata": {},
   "outputs": [],
   "source": [
    "model_id = 'TinyLlama/TinyLlama-1.1B-Chat-v1.0'\n",
    "tokenizer = AutoTokenizer.from_pretrained(model_id)\n",
    "lm_model = AutoModelForCausalLM.from_pretrained(model_id,trust_remote_code=True)\n",
    "\n",
    "pipe = pipeline('text-generation', \n",
    "                model=lm_model,\n",
    "                tokenizer=tokenizer, \n",
    "                max_new_tokens=256,\n",
    "                device_map='auto')"
   ]
  },
  {
   "cell_type": "code",
   "execution_count": 4,
   "metadata": {},
   "outputs": [],
   "source": [
    "class NewsRagger:\n",
    "    def __init__(self, MAX_NEWS=500,DOCUMENT='title',TOPIC='topic'):\n",
    "        news = pd.read_csv('./datasets/technology_dataset.csv', sep=';')\n",
    "        news['id'] = news.index\n",
    "        \n",
    "        self.subset_news = news.head(MAX_NEWS)\n",
    "        #display(self.subset_news)\n",
    "        \n",
    "        self.document = DOCUMENT\n",
    "        self.topic = TOPIC\n",
    "        self.max_news = MAX_NEWS\n",
    "\n",
    "        \n",
    "    def create_db_collection(self):\n",
    "        chroma_client = chromadb.PersistentClient(path='chromadb')\n",
    "        collection_name = 'news_tech_collection' #+ datetime.now().strftime('%S')\n",
    "        #print(collection_name)\n",
    "\n",
    "        if len(chroma_client.list_collections()) > 0 and collection_name in [chroma_client.list_collections()[0].name]:\n",
    "            chroma_client.delete_collection(collection_name)\n",
    "        \n",
    "        self.collection = chroma_client.create_collection(name=collection_name) \n",
    "        self.collection.add(\n",
    "                                documents=self.subset_news[self.document].tolist(),\n",
    "                                metadatas=[{self.topic: topic} for topic in self.subset_news[self.topic].tolist()],\n",
    "                                ids=[f'id{x}' for x in range(self.max_news)]\n",
    "                            )\n",
    "        return self\n",
    "    \n",
    "    def collection_query(self,query_texts,n_results=10):\n",
    "        results = self.collection.query(query_texts=query_texts,n_results=n_results)\n",
    "        self.query_results = results['documents'][0]\n",
    "        return self\n",
    "    \n",
    "    def question(self,question):\n",
    "        context = ' '.join([f\"#{str(i)}\" for i in self.query_results])\n",
    "        prompt_template = f\"\"\"\n",
    "            Relevant context: {context}\n",
    "            Considering the relevant context, answer the questions?\n",
    "            Question: {question}\n",
    "            Answer:\n",
    "        \"\"\"\n",
    "\n",
    "        lm_response = pipe(prompt_template)\n",
    "        self.final_response = lm_response[0]['generated_text']\n",
    "        return self\n",
    "\n"
   ]
  },
  {
   "cell_type": "code",
   "execution_count": 5,
   "metadata": {},
   "outputs": [],
   "source": [
    "rag = (\n",
    "    NewsRagger()\n",
    "        .create_db_collection()\n",
    "        .collection_query(['laptop'])\n",
    ")\n",
    "    "
   ]
  },
  {
   "cell_type": "code",
   "execution_count": 6,
   "metadata": {},
   "outputs": [
    {
     "name": "stderr",
     "output_type": "stream",
     "text": [
      "Starting from v4.46, the `logits` model output will have the same type as the model (except at train time, where it will always be FP32)\n"
     ]
    },
    {
     "data": {
      "text/plain": [
       "\"\\n            Relevant context: #The Legendary Toshiba is Officially Done With Making Laptops #Lenovo and HP control half of the global laptop market #Acer Swift 3 featuring a 10th-generation Intel Ice Lake CPU, 2K screen, and more launched in India for INR 64999 (US$865) #Apple's Next MacBook Could Be the Cheapest in Company's History #Features of Huawei's Desktop Computer Revealed #Redmi to launch its first gaming laptop on August 14: Here are all the details #Toshiba shuts the lid on laptops after 35 years #Apple to Reportedly Launch Its Cheapest MacBook Ever #Dell announces the premium Latitude 7410 Chromebook Enterprise: available now #Surface Reveals Microsoft’s Turbocharged Android\\n            Considering the relevant context, answer the questions?\\n            Question: Can i buy a new toshiba laptop?\\n            Answer:\\n        \\n        \\n        \\n        \\n        \\n        \\n        \\n        \\n        \\n        \\n        \\n        \\n        \\n        \\n        \\n        \\n        \\n        \\n        \\n        \\n        \\n        \\n        \\n        \\n        \\n        \\n        \\n        \\n        \\n        \\n        \\n        \\n        \\n        \\n        \\n        \\n        \\n        \\n        \\n        \\n        \\n        \\n        \\n        \\n        \\n        \\n        \\n        \\n        \\n        \\n        \\n        \\n        \\n        \\n        \\n        \\n        \\n        \\n        \\n        \\n        \\n        \\n        \\n        \\n        \\n        \\n        \\n        \\n        \\n        \\n        \\n        \\n        \\n        \\n        \\n        \\n        \\n        \\n        \\n        \\n        \\n        \\n        \\n        \\n        \\n        \\n        \\n        \\n        \\n        \\n        \\n        \\n        \\n        \\n        \\n        \\n        \\n        \\n        \\n        \\n        \\n        \\n        \\n        \\n        \\n        \\n        \\n        \\n        \\n        \\n        \\n        \\n        \\n        \\n        \\n        \\n        \\n        \\n        \\n        \\n        \\n        \\n        \\n        \\n        \\n        \\n        \\n        \\n        \""
      ]
     },
     "execution_count": 6,
     "metadata": {},
     "output_type": "execute_result"
    }
   ],
   "source": [
    "rag.question('Can i buy a new toshiba laptop?').final_response"
   ]
  }
 ],
 "metadata": {
  "kernelspec": {
   "display_name": "generative-llm-projects",
   "language": "python",
   "name": "python3"
  },
  "language_info": {
   "codemirror_mode": {
    "name": "ipython",
    "version": 3
   },
   "file_extension": ".py",
   "mimetype": "text/x-python",
   "name": "python",
   "nbconvert_exporter": "python",
   "pygments_lexer": "ipython3",
   "version": "3.11.10"
  }
 },
 "nbformat": 4,
 "nbformat_minor": 2
}
