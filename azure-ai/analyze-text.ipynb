{
 "cells": [
  {
   "cell_type": "code",
   "execution_count": null,
   "metadata": {},
   "outputs": [],
   "source": [
    "!pip install azure-ai-textanalytics==5.3.0\n",
    "!pip install python-dotenv"
   ]
  },
  {
   "cell_type": "markdown",
   "metadata": {},
   "source": [
    "``Note``\n",
    "- Create Azure Language Service\n",
    "- View the Keys and Endpoint page in the Resource Management section"
   ]
  },
  {
   "cell_type": "code",
   "execution_count": null,
   "metadata": {},
   "outputs": [],
   "source": [
    "from azure.core.credentials import AzureKeyCredential\n",
    "from azure.ai.textanalytics import TextAnalyticsClient\n",
    "\n",
    "import os\n",
    "from dotenv import load_dotenv"
   ]
  },
  {
   "cell_type": "code",
   "execution_count": 36,
   "metadata": {},
   "outputs": [],
   "source": [
    "_ = load_dotenv()\n",
    "\n",
    "AZUREAI_TOKEN=os.environ['AZUREAI_TOKEN']\n",
    "AZUREAI_COGNITIVESERVICES_URL=os.environ['AZUREAI_COGNITIVESERVICES_URL']"
   ]
  },
  {
   "cell_type": "code",
   "execution_count": 37,
   "metadata": {},
   "outputs": [],
   "source": [
    "credential = AzureKeyCredential(AZUREAI_TOKEN)\n",
    "ai_client = TextAnalyticsClient(credential=credential, endpoint=AZUREAI_COGNITIVESERVICES_URL)"
   ]
  },
  {
   "cell_type": "code",
   "execution_count": 38,
   "metadata": {},
   "outputs": [],
   "source": [
    "path = '../datasets/reviews/'"
   ]
  },
  {
   "cell_type": "code",
   "execution_count": 39,
   "metadata": {},
   "outputs": [],
   "source": [
    "def get_language(text):\n",
    "    detected_language = ai_client.detect_language(documents=[text])[0]\n",
    "    print(f'\\n Language: {detected_language.primary_language.name}')"
   ]
  },
  {
   "cell_type": "code",
   "execution_count": 40,
   "metadata": {},
   "outputs": [],
   "source": [
    "def get_sentiment(text):\n",
    "    detected_sentiment = ai_client.analyze_sentiment(documents=[text])[0]\n",
    "    print(f'\\n Sentiment: {detected_sentiment.sentiment}')\n",
    "    "
   ]
  },
  {
   "cell_type": "code",
   "execution_count": 41,
   "metadata": {},
   "outputs": [],
   "source": [
    "def get_key_phrases(text):\n",
    "    phrases = ai_client.extract_key_phrases(documents=[text])[0].key_phrases\n",
    "    if len(phrases) > 0:\n",
    "        print('\\n Key Phrases')\n",
    "        for phrase in phrases:\n",
    "            print(f'\\t {phrase}')"
   ]
  },
  {
   "cell_type": "code",
   "execution_count": 42,
   "metadata": {},
   "outputs": [],
   "source": [
    "def get_entities(text):\n",
    "    entities = ai_client.recognize_entities(documents=[text])[0].entities\n",
    "    if len(entities) > 0:\n",
    "        print('\\Entities')\n",
    "        for entity in entities:\n",
    "            print(f'{entity.text, entity.category}')\n",
    "    "
   ]
  },
  {
   "cell_type": "code",
   "execution_count": 43,
   "metadata": {},
   "outputs": [],
   "source": [
    "def get_link_entities(text):\n",
    "    entities = ai_client.recognize_linked_entities(documents=[text])[0].entities\n",
    "    if len(entities) > 0:\n",
    "        print('\\Entities')\n",
    "        for linked_entity in entities:\n",
    "            print(f'{linked_entity.name, linked_entity.url}')"
   ]
  },
  {
   "cell_type": "code",
   "execution_count": 44,
   "metadata": {},
   "outputs": [
    {
     "name": "stdout",
     "output_type": "stream",
     "text": [
      "\n",
      "-------------\n",
      "review1.txt\n",
      "Good Hotel and staff\n",
      "The Royal Hotel, London, UK\n",
      "3/2/2018\n",
      "Clean rooms, good service, great location near Buckingham Palace and Westminster Abbey, and so on. We thoroughly enjoyed our stay. The courtyard is very peaceful and we went to a restaurant which is part of the same group and is Indian ( West coast so plenty of fish) with a Michelin Star. We had the taster menu which was fabulous. The rooms were very well appointed with a kitchen, lounge, bedroom and enormous bathroom. Thoroughly recommended.\n",
      "\\Entities\n",
      "('GOOD Music', 'https://en.wikipedia.org/wiki/GOOD_Music')\n",
      "('Hotel', 'https://en.wikipedia.org/wiki/Hotel')\n",
      "('The Royal Hotel', 'https://en.wikipedia.org/wiki/The_Royal_Hotel')\n",
      "('London', 'https://en.wikipedia.org/wiki/London')\n",
      "('Buckingham Palace', 'https://en.wikipedia.org/wiki/Buckingham_Palace')\n",
      "('Westminster Abbey', 'https://en.wikipedia.org/wiki/Westminster_Abbey')\n",
      "('India', 'https://en.wikipedia.org/wiki/India')\n",
      "('West Coast Main Line', 'https://en.wikipedia.org/wiki/West_Coast_Main_Line')\n",
      "('Michelin Guide', 'https://en.wikipedia.org/wiki/Michelin_Guide')\n",
      "\n",
      "-------------\n",
      "review2.txt\n",
      "Tired hotel with poor service\n",
      "The Royal Hotel, London, United Kingdom\n",
      "5/6/2018\n",
      "This is a old hotel (has been around since 1950's) and the room furnishings are average - becoming a bit old now and require changing. The internet didn't work and had to come to one of their office rooms to check in for my flight home. The website says it's close to the British Museum, but it's too far to walk.\n",
      "\\Entities\n",
      "('The Royal Hotel', 'https://en.wikipedia.org/wiki/The_Royal_Hotel')\n",
      "('London', 'https://en.wikipedia.org/wiki/London')\n",
      "('British Museum', 'https://en.wikipedia.org/wiki/British_Museum')\n",
      "\n",
      "-------------\n",
      "review3.txt\n",
      "Good location and helpful staff, but on a busy road.\n",
      "The Lombard Hotel, San Francisco, USA\n",
      "8/16/2018\n",
      "We stayed here in August after reading reviews. We were very pleased with location, just behind Chestnut Street, a cosmopolitan and trendy area with plenty of restaurants to choose from. The\n",
      "Marina district was lovely to wander through, very interesting houses. Make sure to walk to the San Francisco Museum of Fine Arts and the Marina to get a good view of Golden Gate bridge and the city. On a bus route and easy to get into centre. Rooms were clean with plenty of room and staff were friendly and helpful. The only down side was the noise from Lombard Street so ask to have a room furthest away from traffic noise.\n",
      "\\Entities\n",
      "('Lombardy', 'https://en.wikipedia.org/wiki/Lombardy')\n",
      "('Hotel', 'https://en.wikipedia.org/wiki/Hotel')\n",
      "('San Francisco', 'https://en.wikipedia.org/wiki/San_Francisco')\n",
      "('Chestnut Street (Philadelphia)', 'https://en.wikipedia.org/wiki/Chestnut_Street_(Philadelphia)')\n",
      "('Marina District, San Francisco', 'https://en.wikipedia.org/wiki/Marina_District,_San_Francisco')\n",
      "('Museum of Fine Arts, Boston', 'https://en.wikipedia.org/wiki/Museum_of_Fine_Arts,_Boston')\n",
      "('Golden Gate Bridge', 'https://en.wikipedia.org/wiki/Golden_Gate_Bridge')\n",
      "('Room', 'https://en.wikipedia.org/wiki/Room')\n",
      "('Lombard Street (San Francisco)', 'https://en.wikipedia.org/wiki/Lombard_Street_(San_Francisco)')\n",
      "\n",
      "-------------\n",
      "review4.txt\n",
      "Very noisy and rooms are tiny\n",
      "The Lombard Hotel, San Francisco, USA\n",
      "9/5/2018\n",
      "Hotel is located on Lombard street which is a very busy SIX lane street directly off the Golden Gate Bridge. Traffic from early morning until late at night especially on weekends. Noise would not be so bad if rooms were better insulated but they are not. Had to put cotton balls in my ears to be able to sleep--was too tired to enjoy the city the next day. Rooms are TINY. I picked the room because it had two queen size beds--but the room barely had space to fit them. With family of four in the room it was tight. With all that said, rooms are clean and they've made an effort to update them. The hotel is in Marina district with lots of good places to eat, within walking distance to Presidio. May be good hotel for young stay-up-late adults on a budget\n",
      "\n",
      "\\Entities\n",
      "('Lombard, Illinois', 'https://en.wikipedia.org/wiki/Lombard,_Illinois')\n",
      "('Hotel', 'https://en.wikipedia.org/wiki/Hotel')\n",
      "('San Francisco', 'https://en.wikipedia.org/wiki/San_Francisco')\n",
      "('Lombard Street (San Francisco)', 'https://en.wikipedia.org/wiki/Lombard_Street_(San_Francisco)')\n",
      "('Golden Gate Bridge', 'https://en.wikipedia.org/wiki/Golden_Gate_Bridge')\n",
      "('Traffic', 'https://en.wikipedia.org/wiki/Traffic')\n",
      "('Noise rock', 'https://en.wikipedia.org/wiki/Noise_rock')\n",
      "('Room', 'https://en.wikipedia.org/wiki/Room')\n",
      "('Marina District, San Francisco', 'https://en.wikipedia.org/wiki/Marina_District,_San_Francisco')\n",
      "('Presidio of San Francisco', 'https://en.wikipedia.org/wiki/Presidio_of_San_Francisco')\n",
      "('May', 'https://en.wikipedia.org/wiki/May')\n",
      "\n",
      "-------------\n",
      "review5.txt\n",
      "Un hôtel agréable\n",
      "L'Hotel Buckingham, Londres, UK\n",
      "J’adore cet hôtel. Le personnel est très amical et les chambres sont confortables.\n",
      "\\Entities\n",
      "('United Nations', 'https://en.wikipedia.org/wiki/United_Nations')\n",
      "(\"L'Hôtel\", \"https://en.wikipedia.org/wiki/L'Hôtel\")\n",
      "('Buckingham', 'https://en.wikipedia.org/wiki/Buckingham')\n",
      "('London', 'https://en.wikipedia.org/wiki/London')\n",
      "('United Kingdom', 'https://en.wikipedia.org/wiki/United_Kingdom')\n"
     ]
    }
   ],
   "source": [
    "for file in os.listdir(path):\n",
    "    print('\\n-------------\\n' + file)\n",
    "    text = open(os.path.join(path,file), encoding='utf-8').read()\n",
    "    print(text)\n",
    "\n",
    "    #get_language(text)\n",
    "    #get_sentiment(text)\n",
    "    #get_key_phrases(text)\n",
    "    #get_entities(text)\n",
    "    get_link_entities(text)"
   ]
  }
 ],
 "metadata": {
  "kernelspec": {
   "display_name": "generative-llm-projects",
   "language": "python",
   "name": "python3"
  },
  "language_info": {
   "codemirror_mode": {
    "name": "ipython",
    "version": 3
   },
   "file_extension": ".py",
   "mimetype": "text/x-python",
   "name": "python",
   "nbconvert_exporter": "python",
   "pygments_lexer": "ipython3",
   "version": "3.11.10"
  }
 },
 "nbformat": 4,
 "nbformat_minor": 2
}
