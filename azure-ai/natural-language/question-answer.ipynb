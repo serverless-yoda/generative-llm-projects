{
 "cells": [
  {
   "cell_type": "markdown",
   "metadata": {},
   "source": [
    "``Link`` https://microsoftlearning.github.io/mslearn-ai-language/Instructions/Exercises/02-qna.html"
   ]
  },
  {
   "cell_type": "code",
   "execution_count": 2,
   "metadata": {},
   "outputs": [
    {
     "name": "stdout",
     "output_type": "stream",
     "text": [
      "Requirement already satisfied: azure-ai-language-questionanswering in c:\\users\\ma2\\.conda\\envs\\generative-llm-projects\\lib\\site-packages (1.1.0)\n",
      "Requirement already satisfied: azure-core<2.0.0,>=1.24.0 in c:\\users\\ma2\\.conda\\envs\\generative-llm-projects\\lib\\site-packages (from azure-ai-language-questionanswering) (1.32.0)\n",
      "Requirement already satisfied: isodate<1.0.0,>=0.6.1 in c:\\users\\ma2\\.conda\\envs\\generative-llm-projects\\lib\\site-packages (from azure-ai-language-questionanswering) (0.7.2)\n",
      "Requirement already satisfied: requests>=2.21.0 in c:\\users\\ma2\\.conda\\envs\\generative-llm-projects\\lib\\site-packages (from azure-core<2.0.0,>=1.24.0->azure-ai-language-questionanswering) (2.32.3)\n",
      "Requirement already satisfied: six>=1.11.0 in c:\\users\\ma2\\.conda\\envs\\generative-llm-projects\\lib\\site-packages (from azure-core<2.0.0,>=1.24.0->azure-ai-language-questionanswering) (1.16.0)\n",
      "Requirement already satisfied: typing-extensions>=4.6.0 in c:\\users\\ma2\\.conda\\envs\\generative-llm-projects\\lib\\site-packages (from azure-core<2.0.0,>=1.24.0->azure-ai-language-questionanswering) (4.12.2)\n",
      "Requirement already satisfied: charset-normalizer<4,>=2 in c:\\users\\ma2\\appdata\\roaming\\python\\python311\\site-packages (from requests>=2.21.0->azure-core<2.0.0,>=1.24.0->azure-ai-language-questionanswering) (3.3.2)\n",
      "Requirement already satisfied: idna<4,>=2.5 in c:\\users\\ma2\\.conda\\envs\\generative-llm-projects\\lib\\site-packages (from requests>=2.21.0->azure-core<2.0.0,>=1.24.0->azure-ai-language-questionanswering) (3.10)\n",
      "Requirement already satisfied: urllib3<3,>=1.21.1 in c:\\users\\ma2\\.conda\\envs\\generative-llm-projects\\lib\\site-packages (from requests>=2.21.0->azure-core<2.0.0,>=1.24.0->azure-ai-language-questionanswering) (2.2.3)\n",
      "Requirement already satisfied: certifi>=2017.4.17 in c:\\users\\ma2\\.conda\\envs\\generative-llm-projects\\lib\\site-packages (from requests>=2.21.0->azure-core<2.0.0,>=1.24.0->azure-ai-language-questionanswering) (2024.8.30)\n",
      "Requirement already satisfied: python-dotenv in c:\\users\\ma2\\.conda\\envs\\generative-llm-projects\\lib\\site-packages (1.0.1)\n"
     ]
    }
   ],
   "source": [
    "!pip install azure-ai-language-questionanswering\n",
    "!pip install python-dotenv"
   ]
  },
  {
   "cell_type": "code",
   "execution_count": 6,
   "metadata": {},
   "outputs": [],
   "source": [
    "import os\n",
    "from dotenv import load_dotenv\n",
    "\n",
    "from azure.core.credentials import AzureKeyCredential\n",
    "from azure.ai.language.questionanswering import QuestionAnsweringClient"
   ]
  },
  {
   "cell_type": "code",
   "execution_count": null,
   "metadata": {},
   "outputs": [],
   "source": [
    "_ = load_dotenv()\n",
    "\n",
    "QUESTIONANSWERING_SERVICE_URL=os.environ['LANGUAGE_SERVICE_URL']\n",
    "QUESTIONANSWERING_KEY=os.environ['LANGUAGE_KEY']\n",
    "\n",
    "PROJECT_NAME='LearnFAQ'\n",
    "PROJECT_DEPLOYMENT_NAME='LearnFAQ'"
   ]
  },
  {
   "cell_type": "code",
   "execution_count": 9,
   "metadata": {},
   "outputs": [],
   "source": [
    "credential = AzureKeyCredential(QUESTIONANSWERING_KEY)\n",
    "ai_client = QuestionAnsweringClient(credential=credential, endpoint=QUESTIONANSWERING_SERVICE_URL)"
   ]
  },
  {
   "cell_type": "code",
   "execution_count": 14,
   "metadata": {},
   "outputs": [
    {
     "name": "stdout",
     "output_type": "stream",
     "text": [
      "Microsoft credentials enable you to validate and prove your skills with Microsoft technologies\n",
      "Confidence: 0.98\n",
      "Source: https://docs.microsoft.com/en-us/learn/support/faq\n"
     ]
    }
   ],
   "source": [
    "user_question = 'What is Microsoft Credentials?'\n",
    "\n",
    "response  = ai_client.get_answers(question=user_question,project_name=PROJECT_NAME,deployment_name=PROJECT_DEPLOYMENT_NAME)\n",
    "\n",
    "for candidate in response.answers:\n",
    "    print(candidate.answer)\n",
    "    print(f'Confidence: {candidate.confidence}')\n",
    "    print(f'Source: {candidate.source}')\n"
   ]
  }
 ],
 "metadata": {
  "kernelspec": {
   "display_name": "generative-llm-projects",
   "language": "python",
   "name": "python3"
  },
  "language_info": {
   "codemirror_mode": {
    "name": "ipython",
    "version": 3
   },
   "file_extension": ".py",
   "mimetype": "text/x-python",
   "name": "python",
   "nbconvert_exporter": "python",
   "pygments_lexer": "ipython3",
   "version": "3.11.10"
  }
 },
 "nbformat": 4,
 "nbformat_minor": 2
}
