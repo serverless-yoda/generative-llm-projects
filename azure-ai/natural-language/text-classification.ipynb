{
 "cells": [
  {
   "cell_type": "markdown",
   "metadata": {},
   "source": [
    "``NOTE``\n",
    "https://microsoftlearning.github.io/mslearn-ai-language/Instructions/Exercises/04-text-classification.html\n"
   ]
  },
  {
   "cell_type": "code",
   "execution_count": 1,
   "metadata": {},
   "outputs": [
    {
     "name": "stdout",
     "output_type": "stream",
     "text": [
      "Requirement already satisfied: azure-ai-textanalytics==5.3.0 in c:\\users\\ma2\\.conda\\envs\\generative-llm-projects\\lib\\site-packages (5.3.0)\n",
      "Requirement already satisfied: azure-core<2.0.0,>=1.24.0 in c:\\users\\ma2\\.conda\\envs\\generative-llm-projects\\lib\\site-packages (from azure-ai-textanalytics==5.3.0) (1.32.0)\n",
      "Requirement already satisfied: azure-common~=1.1 in c:\\users\\ma2\\.conda\\envs\\generative-llm-projects\\lib\\site-packages (from azure-ai-textanalytics==5.3.0) (1.1.28)\n",
      "Requirement already satisfied: isodate<1.0.0,>=0.6.1 in c:\\users\\ma2\\.conda\\envs\\generative-llm-projects\\lib\\site-packages (from azure-ai-textanalytics==5.3.0) (0.7.2)\n",
      "Requirement already satisfied: typing-extensions>=4.0.1 in c:\\users\\ma2\\.conda\\envs\\generative-llm-projects\\lib\\site-packages (from azure-ai-textanalytics==5.3.0) (4.12.2)\n",
      "Requirement already satisfied: requests>=2.21.0 in c:\\users\\ma2\\.conda\\envs\\generative-llm-projects\\lib\\site-packages (from azure-core<2.0.0,>=1.24.0->azure-ai-textanalytics==5.3.0) (2.32.3)\n",
      "Requirement already satisfied: six>=1.11.0 in c:\\users\\ma2\\.conda\\envs\\generative-llm-projects\\lib\\site-packages (from azure-core<2.0.0,>=1.24.0->azure-ai-textanalytics==5.3.0) (1.16.0)\n",
      "Requirement already satisfied: charset-normalizer<4,>=2 in c:\\users\\ma2\\appdata\\roaming\\python\\python311\\site-packages (from requests>=2.21.0->azure-core<2.0.0,>=1.24.0->azure-ai-textanalytics==5.3.0) (3.3.2)\n",
      "Requirement already satisfied: idna<4,>=2.5 in c:\\users\\ma2\\.conda\\envs\\generative-llm-projects\\lib\\site-packages (from requests>=2.21.0->azure-core<2.0.0,>=1.24.0->azure-ai-textanalytics==5.3.0) (3.10)\n",
      "Requirement already satisfied: urllib3<3,>=1.21.1 in c:\\users\\ma2\\.conda\\envs\\generative-llm-projects\\lib\\site-packages (from requests>=2.21.0->azure-core<2.0.0,>=1.24.0->azure-ai-textanalytics==5.3.0) (2.2.3)\n",
      "Requirement already satisfied: certifi>=2017.4.17 in c:\\users\\ma2\\.conda\\envs\\generative-llm-projects\\lib\\site-packages (from requests>=2.21.0->azure-core<2.0.0,>=1.24.0->azure-ai-textanalytics==5.3.0) (2024.8.30)\n",
      "Requirement already satisfied: python-dotenv in c:\\users\\ma2\\.conda\\envs\\generative-llm-projects\\lib\\site-packages (1.0.1)\n"
     ]
    }
   ],
   "source": [
    "!pip install azure-ai-textanalytics==5.3.0\n",
    "!pip install python-dotenv"
   ]
  },
  {
   "cell_type": "code",
   "execution_count": 3,
   "metadata": {},
   "outputs": [],
   "source": [
    "import os\n",
    "from dotenv import load_dotenv\n",
    "\n",
    "from azure.core.credentials import AzureKeyCredential\n",
    "from azure.ai.textanalytics import TextAnalyticsClient\n"
   ]
  },
  {
   "cell_type": "code",
   "execution_count": 5,
   "metadata": {},
   "outputs": [],
   "source": [
    "_ = load_dotenv()\n",
    "\n",
    "CLASSIFICATION_LANGUAGE_SERVICE_URL=os.environ['CLASSIFICATION_LANGUAGE_SERVICE_URL']\n",
    "CLASSIFICATION_LANGUAGE_KEY=os.environ['CLASSIFICATION_LANGUAGE_KEY']\n",
    "\n",
    "credential = AzureKeyCredential(CLASSIFICATION_LANGUAGE_KEY)\n",
    "ai_client = TextAnalyticsClient(credential=credential, endpoint=CLASSIFICATION_LANGUAGE_SERVICE_URL)\n"
   ]
  },
  {
   "cell_type": "code",
   "execution_count": 9,
   "metadata": {},
   "outputs": [],
   "source": [
    "PROJECT_NAME='ClassifyLab'\n",
    "DEPLOYMENT_NAME='articles'"
   ]
  },
  {
   "cell_type": "code",
   "execution_count": 10,
   "metadata": {},
   "outputs": [],
   "source": [
    "def classification(files,batchDocuments):\n",
    "    operation = ai_client.begin_single_label_classify(\n",
    "        batchedDocuments,\n",
    "        project_name=PROJECT_NAME,\n",
    "        deployment_name=DEPLOYMENT_NAME\n",
    "    )\n",
    "\n",
    "    document_results = operation.result()\n",
    "    \n",
    "    for doc, classification_result in zip(files, document_results):\n",
    "     if classification_result.kind == \"CustomDocumentClassification\":\n",
    "         classification = classification_result.classifications[0]\n",
    "         print(\"{} was classified as '{}' with confidence score {}.\".format(\n",
    "             doc, classification.category, classification.confidence_score)\n",
    "         )\n",
    "     elif classification_result.is_error is True:\n",
    "         print(\"{} has an error with code '{}' and message '{}'\".format(\n",
    "             doc, classification_result.error.code, classification_result.error.message)\n",
    "         )"
   ]
  },
  {
   "cell_type": "code",
   "execution_count": 11,
   "metadata": {},
   "outputs": [
    {
     "name": "stdout",
     "output_type": "stream",
     "text": [
      "Article 1.txt was classified as 'Sports' with confidence score 1.0.\n",
      "Article 10.txt was classified as 'News' with confidence score 0.39.\n",
      "Article 11.txt was classified as 'Entertainment' with confidence score 0.3.\n",
      "Article 12.txt was classified as 'News' with confidence score 0.28.\n",
      "Article 13.txt was classified as 'Sports' with confidence score 0.3.\n",
      "Article 2.txt was classified as 'Sports' with confidence score 0.32.\n",
      "Article 3.txt was classified as 'Classifieds' with confidence score 0.47.\n",
      "Article 4.txt was classified as 'Classifieds' with confidence score 0.46.\n",
      "Article 5.txt was classified as 'Entertainment' with confidence score 0.36.\n",
      "Article 6.txt was classified as 'Entertainment' with confidence score 0.39.\n",
      "Article 7.txt was classified as 'News' with confidence score 0.43.\n",
      "Article 8.txt was classified as 'News' with confidence score 0.39.\n",
      "Article 9.txt was classified as 'Entertainment' with confidence score 0.4.\n"
     ]
    }
   ],
   "source": [
    "batchedDocuments = []\n",
    "articles_folder ='../datasets/articles/'\n",
    "\n",
    "files = os.listdir(articles_folder)\n",
    "for file_name in files:\n",
    "    text = open(os.path.join(articles_folder,file_name), encoding='utf-8').read()\n",
    "    batchedDocuments.append(text)\n",
    "\n",
    "\n",
    "classification(files,batchedDocuments)"
   ]
  }
 ],
 "metadata": {
  "kernelspec": {
   "display_name": "generative-llm-projects",
   "language": "python",
   "name": "python3"
  },
  "language_info": {
   "codemirror_mode": {
    "name": "ipython",
    "version": 3
   },
   "file_extension": ".py",
   "mimetype": "text/x-python",
   "name": "python",
   "nbconvert_exporter": "python",
   "pygments_lexer": "ipython3",
   "version": "3.11.10"
  }
 },
 "nbformat": 4,
 "nbformat_minor": 2
}
