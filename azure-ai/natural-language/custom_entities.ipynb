{
 "cells": [
  {
   "cell_type": "markdown",
   "metadata": {},
   "source": [
    "``Note``\n",
    "https://microsoftlearning.github.io/mslearn-ai-language/Instructions/Exercises/05-extract-custom-entities.html"
   ]
  },
  {
   "cell_type": "code",
   "execution_count": 1,
   "metadata": {},
   "outputs": [
    {
     "name": "stdout",
     "output_type": "stream",
     "text": [
      "Requirement already satisfied: azure-ai-textanalytics==5.3.0 in c:\\users\\ma2\\.conda\\envs\\generative-llm-projects\\lib\\site-packages (5.3.0)\n",
      "Requirement already satisfied: azure-core<2.0.0,>=1.24.0 in c:\\users\\ma2\\.conda\\envs\\generative-llm-projects\\lib\\site-packages (from azure-ai-textanalytics==5.3.0) (1.32.0)\n",
      "Requirement already satisfied: azure-common~=1.1 in c:\\users\\ma2\\.conda\\envs\\generative-llm-projects\\lib\\site-packages (from azure-ai-textanalytics==5.3.0) (1.1.28)\n",
      "Requirement already satisfied: isodate<1.0.0,>=0.6.1 in c:\\users\\ma2\\.conda\\envs\\generative-llm-projects\\lib\\site-packages (from azure-ai-textanalytics==5.3.0) (0.7.2)\n",
      "Requirement already satisfied: typing-extensions>=4.0.1 in c:\\users\\ma2\\.conda\\envs\\generative-llm-projects\\lib\\site-packages (from azure-ai-textanalytics==5.3.0) (4.12.2)\n",
      "Requirement already satisfied: requests>=2.21.0 in c:\\users\\ma2\\.conda\\envs\\generative-llm-projects\\lib\\site-packages (from azure-core<2.0.0,>=1.24.0->azure-ai-textanalytics==5.3.0) (2.32.3)\n",
      "Requirement already satisfied: six>=1.11.0 in c:\\users\\ma2\\.conda\\envs\\generative-llm-projects\\lib\\site-packages (from azure-core<2.0.0,>=1.24.0->azure-ai-textanalytics==5.3.0) (1.16.0)\n",
      "Requirement already satisfied: charset-normalizer<4,>=2 in c:\\users\\ma2\\appdata\\roaming\\python\\python311\\site-packages (from requests>=2.21.0->azure-core<2.0.0,>=1.24.0->azure-ai-textanalytics==5.3.0) (3.3.2)\n",
      "Requirement already satisfied: idna<4,>=2.5 in c:\\users\\ma2\\.conda\\envs\\generative-llm-projects\\lib\\site-packages (from requests>=2.21.0->azure-core<2.0.0,>=1.24.0->azure-ai-textanalytics==5.3.0) (3.10)\n",
      "Requirement already satisfied: urllib3<3,>=1.21.1 in c:\\users\\ma2\\.conda\\envs\\generative-llm-projects\\lib\\site-packages (from requests>=2.21.0->azure-core<2.0.0,>=1.24.0->azure-ai-textanalytics==5.3.0) (2.2.3)\n",
      "Requirement already satisfied: certifi>=2017.4.17 in c:\\users\\ma2\\.conda\\envs\\generative-llm-projects\\lib\\site-packages (from requests>=2.21.0->azure-core<2.0.0,>=1.24.0->azure-ai-textanalytics==5.3.0) (2024.8.30)\n",
      "Requirement already satisfied: python-dotenv in c:\\users\\ma2\\.conda\\envs\\generative-llm-projects\\lib\\site-packages (1.0.1)\n"
     ]
    }
   ],
   "source": [
    "!pip install azure-ai-textanalytics==5.3.0\n",
    "!pip install python-dotenv"
   ]
  },
  {
   "cell_type": "code",
   "execution_count": 3,
   "metadata": {},
   "outputs": [],
   "source": [
    "import os\n",
    "from dotenv import load_dotenv\n",
    "\n",
    "from azure.core.credentials import AzureKeyCredential\n",
    "from azure.ai.textanalytics import TextAnalyticsClient\n"
   ]
  },
  {
   "cell_type": "code",
   "execution_count": 4,
   "metadata": {},
   "outputs": [],
   "source": [
    "_ = load_dotenv()\n",
    "CLASSIFICATION_LANGUAGE_SERVICE_URL=os.environ['CLASSIFICATION_LANGUAGE_SERVICE_URL']\n",
    "CLASSIFICATION_LANGUAGE_KEY=os.environ['CLASSIFICATION_LANGUAGE_KEY']\n",
    "\n",
    "credential = AzureKeyCredential(CLASSIFICATION_LANGUAGE_KEY)\n",
    "ai_client = TextAnalyticsClient(credential=credential, endpoint=CLASSIFICATION_LANGUAGE_SERVICE_URL)\n"
   ]
  },
  {
   "cell_type": "code",
   "execution_count": 14,
   "metadata": {},
   "outputs": [],
   "source": [
    "PROJECT_NAME='CustomEntityLab'\n",
    "PROJECT_DEPLOYMENT = 'production'"
   ]
  },
  {
   "cell_type": "code",
   "execution_count": 16,
   "metadata": {},
   "outputs": [],
   "source": [
    "def customEntityRecognition(files,batchDocument):\n",
    "    operation = ai_client.begin_recognize_custom_entities(\n",
    "        batchedDocuments,\n",
    "        project_name=PROJECT_NAME,\n",
    "        deployment_name=PROJECT_DEPLOYMENT\n",
    "    )\n",
    "    document_results =operation.result()\n",
    "\n",
    "   \n",
    "\n",
    "    for doc, custom_entities_result in zip(files, document_results):\n",
    "        print(doc)\n",
    "        if custom_entities_result.kind == \"CustomEntityRecognition\":\n",
    "            for entity in custom_entities_result.entities:\n",
    "                print(\n",
    "                 \"\\tEntity '{}' has category '{}' with confidence score of '{}'\".format(\n",
    "                     entity.text, entity.category, entity.confidence_score\n",
    "                 )\n",
    "            )\n",
    "        elif custom_entities_result.is_error is True:\n",
    "            print(\"\\tError with code '{}' and message '{}'\".format(\n",
    "             custom_entities_result.error.code, custom_entities_result.error.message\n",
    "             )\n",
    "         )"
   ]
  },
  {
   "cell_type": "code",
   "execution_count": 17,
   "metadata": {},
   "outputs": [
    {
     "name": "stdout",
     "output_type": "stream",
     "text": [
      "Ad 1.txt\n",
      "\tEntity 'face cord of firewood' has category 'ItemForSale' with confidence score of '1.0'\n",
      "\tEntity 'Denver, CO' has category 'Location' with confidence score of '0.99'\n",
      "\tEntity '$90' has category 'Price' with confidence score of '1.0'\n",
      "Ad 10.txt\n",
      "\tEntity 'Table with integrated firepit' has category 'ItemForSale' with confidence score of '0.99'\n",
      "\tEntity 'Portland, OR' has category 'Location' with confidence score of '1.0'\n",
      "\tEntity '$400' has category 'Price' with confidence score of '0.99'\n",
      "Ad 11.txt\n",
      "\tEntity 'storage shelves' has category 'ItemForSale' with confidence score of '0.98'\n",
      "\tEntity '$25 dollars' has category 'Price' with confidence score of '0.99'\n",
      "\tEntity 'Nashville, TN' has category 'Location' with confidence score of '0.98'\n",
      "Ad 12.txt\n",
      "\tEntity 'Propane grill' has category 'ItemForSale' with confidence score of '0.93'\n",
      "\tEntity '$75' has category 'Price' with confidence score of '0.99'\n",
      "\tEntity 'Las Vegas, NV' has category 'Location' with confidence score of '0.95'\n",
      "Ad 2.txt\n",
      "\tEntity 'Weight set' has category 'ItemForSale' with confidence score of '0.99'\n",
      "\tEntity '$100' has category 'Price' with confidence score of '0.8'\n",
      "\tEntity '150 pounds' has category 'Price' with confidence score of '0.82'\n",
      "\tEntity 'Phoenix, AZ' has category 'Location' with confidence score of '1.0'\n",
      "Ad 3.txt\n",
      "\tEntity 'Glass L Shaped desk' has category 'ItemForSale' with confidence score of '0.98'\n",
      "\tEntity '$100' has category 'Price' with confidence score of '0.94'\n",
      "\tEntity 'Detroit MI' has category 'Location' with confidence score of '1.0'\n",
      "Ad 4.txt\n",
      "\tEntity 'Large Dog Kennel' has category 'ItemForSale' with confidence score of '0.9'\n",
      "\tEntity '$40 OBO' has category 'Price' with confidence score of '0.89'\n",
      "\tEntity 'Chicago, IL' has category 'Location' with confidence score of '1.0'\n",
      "Ad 5.txt\n",
      "\tEntity 'computer chair' has category 'ItemForSale' with confidence score of '0.99'\n",
      "\tEntity '$80' has category 'Price' with confidence score of '0.99'\n",
      "\tEntity 'London' has category 'Location' with confidence score of '0.99'\n",
      "Ad 6.txt\n",
      "\tEntity 'Farm fresh egg' has category 'ItemForSale' with confidence score of '1.0'\n",
      "\tEntity '$3' has category 'Price' with confidence score of '1.0'\n",
      "\tEntity 'Chicago, IL' has category 'Location' with confidence score of '1.0'\n",
      "Ad 7.txt\n",
      "\tEntity 'sectional couch' has category 'ItemForSale' with confidence score of '0.98'\n",
      "\tEntity 'Miami, FL' has category 'Location' with confidence score of '1.0'\n",
      "\tEntity '$200' has category 'Price' with confidence score of '0.99'\n",
      "Ad 8.txt\n",
      "\tEntity 'Contoso swag bag' has category 'ItemForSale' with confidence score of '1.0'\n",
      "\tEntity '$10' has category 'Price' with confidence score of '0.99'\n",
      "\tEntity 'Dallas, TX' has category 'Location' with confidence score of '1.0'\n",
      "Ad 9.txt\n",
      "\tEntity '24\" Computer monitor' has category 'ItemForSale' with confidence score of '1.0'\n",
      "\tEntity '$50' has category 'Price' with confidence score of '0.99'\n"
     ]
    }
   ],
   "source": [
    "batchedDocuments = []\n",
    "articles_folder ='../datasets/classifieds/'\n",
    "\n",
    "files = os.listdir(articles_folder)\n",
    "for file_name in files:\n",
    "    ads = open(os.path.join(articles_folder,file_name),encoding='utf-8').read()\n",
    "    batchedDocuments.append(ads)\n",
    "\n",
    "customEntityRecognition(files,batchedDocuments)"
   ]
  }
 ],
 "metadata": {
  "kernelspec": {
   "display_name": "generative-llm-projects",
   "language": "python",
   "name": "python3"
  },
  "language_info": {
   "codemirror_mode": {
    "name": "ipython",
    "version": 3
   },
   "file_extension": ".py",
   "mimetype": "text/x-python",
   "name": "python",
   "nbconvert_exporter": "python",
   "pygments_lexer": "ipython3",
   "version": "3.11.10"
  }
 },
 "nbformat": 4,
 "nbformat_minor": 2
}
